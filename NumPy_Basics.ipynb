{
 "cells": [
  {
   "cell_type": "markdown",
   "metadata": {
    "id": "6uopemMJBbAX"
   },
   "source": [
    "\n",
    "# NumPy Basics"
   ]
  },
  {
   "cell_type": "markdown",
   "metadata": {
    "id": "CV-F6qtV5Dbb"
   },
   "source": [
    "NumPy (or Numpy) is a Linear Algebra Library for Python. You can visit https://numpy.org to know more about the library.\r\n",
    "\r\n",
    "Today we will only learn the basics of NumPy. To get started, we need to install it\r\n",
    "\r\n",
    "For local environment, use\r\n",
    "\r\n",
    "    pip install numpy\r\n",
    "\r\n",
    "For Google Colab, use\r\n",
    "\r\n",
    "    !pip install numpy"
   ]
  },
  {
   "cell_type": "markdown",
   "metadata": {
    "id": "SXKingCiJCgg"
   },
   "source": [
    "Once you've installed NumPy you can import it as a library:"
   ]
  },
  {
   "cell_type": "code",
   "execution_count": 1,
   "metadata": {
    "id": "_3JnjTOCj7Cz"
   },
   "outputs": [],
   "source": [
    "import numpy as np"
   ]
  },
  {
   "cell_type": "markdown",
   "metadata": {
    "id": "0M7MKIIajfqO"
   },
   "source": [
    "Here, np is an alias for the keyword numpy. In Python, an alias is an alternate name for referring to the same thing."
   ]
  },
  {
   "cell_type": "markdown",
   "metadata": {
    "id": "xLulmnrsI95C"
   },
   "source": [
    "##NumPy Arrays"
   ]
  },
  {
   "cell_type": "markdown",
   "metadata": {
    "id": "vDIFJ8PMkPOc"
   },
   "source": [
    "Numpy provides array operations and linear algebra to Python. A Numpy array is a bit like a Python list, but supports elementwise arithmetic. For more info on why you would want to use Arrays instead of lists, check out this [StackOverflow post](http://stackoverflow.com/questions/993984/why-numpy-instead-of-python-lists).\r\n",
    "Here is an example of NumPy arrays:"
   ]
  },
  {
   "cell_type": "code",
   "execution_count": 2,
   "metadata": {
    "colab": {
     "base_uri": "https://localhost:8080/"
    },
    "id": "lgBOv81ekQZW",
    "outputId": "199df0d8-216b-4120-d8b6-b597a04d0913"
   },
   "outputs": [
    {
     "name": "stdout",
     "output_type": "stream",
     "text": [
      "[ 2  4  6  8 10]\n"
     ]
    }
   ],
   "source": [
    "x = np.asarray([1, 2, 3, 4, 5])\n",
    "y = 2 * x\n",
    "print(y)"
   ]
  },
  {
   "cell_type": "markdown",
   "metadata": {
    "id": "9g7SEYGiNFpD"
   },
   "source": [
    "## Built In Methods"
   ]
  },
  {
   "cell_type": "markdown",
   "metadata": {
    "id": "1sM-QZUShIuP"
   },
   "source": [
    "###arange\r\n",
    "Return evenly spaced values within a given interval."
   ]
  },
  {
   "cell_type": "code",
   "execution_count": 3,
   "metadata": {
    "colab": {
     "base_uri": "https://localhost:8080/"
    },
    "id": "nlhGdlxaNjru",
    "outputId": "1957db94-e805-4c68-9195-101ea5b14860"
   },
   "outputs": [
    {
     "data": {
      "text/plain": [
       "array([0, 1, 2, 3, 4, 5, 6, 7, 8, 9])"
      ]
     },
     "execution_count": 3,
     "metadata": {
      "tags": []
     },
     "output_type": "execute_result"
    }
   ],
   "source": [
    "np.arange(0,10)"
   ]
  },
  {
   "cell_type": "code",
   "execution_count": 4,
   "metadata": {
    "colab": {
     "base_uri": "https://localhost:8080/"
    },
    "id": "GwGvNhfPNzbK",
    "outputId": "8d4f4a2b-3e4c-4aac-ae71-0d47071bb99c"
   },
   "outputs": [
    {
     "data": {
      "text/plain": [
       "array([ 0,  2,  4,  6,  8, 10])"
      ]
     },
     "execution_count": 4,
     "metadata": {
      "tags": []
     },
     "output_type": "execute_result"
    }
   ],
   "source": [
    "np.arange(0,11,2)"
   ]
  },
  {
   "cell_type": "markdown",
   "metadata": {
    "id": "KvrHFg3LlLK2"
   },
   "source": [
    "### zeros and ones\n",
    "\n",
    "Generate arrays of zeros or ones"
   ]
  },
  {
   "cell_type": "code",
   "execution_count": 5,
   "metadata": {
    "colab": {
     "base_uri": "https://localhost:8080/"
    },
    "id": "WwqxZe-CN2t4",
    "outputId": "8633fee1-b9db-4f98-8696-2a8e558f0429"
   },
   "outputs": [
    {
     "data": {
      "text/plain": [
       "array([0., 0., 0., 0., 0., 0., 0.])"
      ]
     },
     "execution_count": 5,
     "metadata": {
      "tags": []
     },
     "output_type": "execute_result"
    }
   ],
   "source": [
    "np.zeros(7)"
   ]
  },
  {
   "cell_type": "code",
   "execution_count": 6,
   "metadata": {
    "colab": {
     "base_uri": "https://localhost:8080/"
    },
    "id": "qfrrmyhwlVAR",
    "outputId": "1e125ed9-a8e1-4a5d-94ed-65ee51f746d4"
   },
   "outputs": [
    {
     "data": {
      "text/plain": [
       "array([[1., 1., 1., 1.],\n",
       "       [1., 1., 1., 1.],\n",
       "       [1., 1., 1., 1.]])"
      ]
     },
     "execution_count": 6,
     "metadata": {
      "tags": []
     },
     "output_type": "execute_result"
    }
   ],
   "source": [
    "np.ones((3,4))"
   ]
  },
  {
   "cell_type": "markdown",
   "metadata": {
    "id": "2FzCc6NYld-J"
   },
   "source": [
    "### linspace\n",
    "Return evenly spaced numbers over a specified interval."
   ]
  },
  {
   "cell_type": "code",
   "execution_count": 7,
   "metadata": {
    "colab": {
     "base_uri": "https://localhost:8080/"
    },
    "id": "R7Orz41ildk6",
    "outputId": "317514d6-712d-4bed-a8a0-387adf4eb59d"
   },
   "outputs": [
    {
     "data": {
      "text/plain": [
       "array([ 0.        ,  3.57142857,  7.14285714, 10.71428571, 14.28571429,\n",
       "       17.85714286, 21.42857143, 25.        , 28.57142857, 32.14285714,\n",
       "       35.71428571, 39.28571429, 42.85714286, 46.42857143, 50.        ])"
      ]
     },
     "execution_count": 7,
     "metadata": {
      "tags": []
     },
     "output_type": "execute_result"
    }
   ],
   "source": [
    "np.linspace(0,50,15)"
   ]
  },
  {
   "cell_type": "markdown",
   "metadata": {
    "id": "C7eAV59di3Fi"
   },
   "source": [
    "### Random \r\n",
    "\r\n",
    "Numpy also has lots of ways to create random number arrays:"
   ]
  },
  {
   "cell_type": "markdown",
   "metadata": {
    "id": "NoU1fCH1jG86"
   },
   "source": [
    "#### rand\r\n",
    "Create an array of the given shape and populate it with\r\n",
    "random samples from a uniform distribution\r\n",
    "over ``[0, 1)``."
   ]
  },
  {
   "cell_type": "code",
   "execution_count": 8,
   "metadata": {
    "colab": {
     "base_uri": "https://localhost:8080/"
    },
    "id": "LUJdT-d3i7rI",
    "outputId": "2adb7efd-3e54-4ba3-f6cf-c9a4dbc03676"
   },
   "outputs": [
    {
     "data": {
      "text/plain": [
       "array([[0.46573528, 0.50831743, 0.61064827, 0.87354642, 0.78043843],\n",
       "       [0.12939272, 0.93047858, 0.43548823, 0.91661941, 0.52288042],\n",
       "       [0.91252165, 0.99153365, 0.92716971, 0.15430611, 0.69516543],\n",
       "       [0.69606011, 0.23804067, 0.47285527, 0.38643427, 0.9031126 ],\n",
       "       [0.31089398, 0.56954574, 0.14271024, 0.70431941, 0.44598797]])"
      ]
     },
     "execution_count": 8,
     "metadata": {
      "tags": []
     },
     "output_type": "execute_result"
    }
   ],
   "source": [
    "np.random.rand(5,5)"
   ]
  },
  {
   "cell_type": "markdown",
   "metadata": {
    "id": "xgeySF-Yl6Y2"
   },
   "source": [
    "You can also multiply the array by a constant so as to change the interval of the numbers. For example:"
   ]
  },
  {
   "cell_type": "code",
   "execution_count": 9,
   "metadata": {
    "colab": {
     "base_uri": "https://localhost:8080/"
    },
    "id": "Hy2TpTOxmGyy",
    "outputId": "df2b16c6-0bbf-44a7-d029-1f86f9f9f30e"
   },
   "outputs": [
    {
     "data": {
      "text/plain": [
       "array([[ 6.62657121, 18.04311572,  4.23654827,  1.31125801,  5.05342726],\n",
       "       [ 7.90605806,  5.69496468,  3.77642016,  5.14359904,  2.88584142],\n",
       "       [ 0.39498692,  0.92250579, 16.42901317,  4.6585271 , 14.02288654],\n",
       "       [ 6.5129434 ,  1.97913784,  4.99275656, 16.32291065, 11.23675723],\n",
       "       [18.83498412, 14.45592878,  9.54985474,  3.97819346,  7.96706883]])"
      ]
     },
     "execution_count": 9,
     "metadata": {
      "tags": []
     },
     "output_type": "execute_result"
    }
   ],
   "source": [
    "20*np.random.rand(5,5)\r\n",
    "#the numbers now lie between 0 and 20"
   ]
  },
  {
   "cell_type": "markdown",
   "metadata": {
    "id": "r-SWs0jjjOCV"
   },
   "source": [
    "#### randn\r\n",
    "\r\n",
    "Return a sample (or samples) from the \"standard normal\" distribution, unlike rand which is uniform. Visit [this link](https://www.khanacademy.org/math/statistics-probability/modeling-distributions-of-data/normal-distributions-library/a/normal-distributions-review) if you wish to know more about normal distribution."
   ]
  },
  {
   "cell_type": "code",
   "execution_count": 10,
   "metadata": {
    "colab": {
     "base_uri": "https://localhost:8080/"
    },
    "id": "tImgQ5KljdLU",
    "outputId": "322cf160-d52e-46ef-d16d-b13580e0f0f4"
   },
   "outputs": [
    {
     "data": {
      "text/plain": [
       "array([[ 0.21074132, -1.80564121,  1.83554249,  0.11740098,  1.20280911],\n",
       "       [-1.52300548,  0.37129088, -0.40279721, -0.50321779, -1.38732522],\n",
       "       [ 0.09311818,  0.90831014, -1.39180525,  0.23957296,  0.03647499],\n",
       "       [ 1.14175054,  0.10621249, -1.45586696,  0.4102398 , -0.00525151],\n",
       "       [ 0.65213642, -0.52134816, -0.46342709, -0.33148247, -1.230787  ]])"
      ]
     },
     "execution_count": 10,
     "metadata": {
      "tags": []
     },
     "output_type": "execute_result"
    }
   ],
   "source": [
    "np.random.randn(5,5)"
   ]
  },
  {
   "cell_type": "markdown",
   "metadata": {
    "id": "5AK5zTkHj1vN"
   },
   "source": [
    "### Reshape\r\n",
    "Returns an array containing the same data with a new shape."
   ]
  },
  {
   "cell_type": "code",
   "execution_count": 11,
   "metadata": {
    "colab": {
     "base_uri": "https://localhost:8080/"
    },
    "id": "iQMhcBbfjd1k",
    "outputId": "7df4005d-bb44-451f-afc2-4fb7f895dcb6"
   },
   "outputs": [
    {
     "name": "stdout",
     "output_type": "stream",
     "text": [
      "[ 0  1  2  3  4  5  6  7  8  9 10 11 12 13 14 15 16 17 18 19]\n",
      "[[ 0  1  2  3  4]\n",
      " [ 5  6  7  8  9]\n",
      " [10 11 12 13 14]\n",
      " [15 16 17 18 19]]\n"
     ]
    }
   ],
   "source": [
    "arr = np.arange(20)\r\n",
    "print(arr)\r\n",
    "\r\n",
    "print(arr.reshape(4,5))"
   ]
  },
  {
   "cell_type": "markdown",
   "metadata": {
    "id": "29dh8s8-oC35"
   },
   "source": [
    "### dtype\r\n",
    "You can also grab the data type of the object in the array:"
   ]
  },
  {
   "cell_type": "code",
   "execution_count": 12,
   "metadata": {
    "colab": {
     "base_uri": "https://localhost:8080/"
    },
    "id": "PDY4zuzEoFQt",
    "outputId": "1ff2ff9b-f372-4b9c-8a54-7ddb354a3485"
   },
   "outputs": [
    {
     "name": "stdout",
     "output_type": "stream",
     "text": [
      "int64\n",
      "<class 'numpy.ndarray'>\n"
     ]
    }
   ],
   "source": [
    "print(arr.dtype)\n",
    "print(type(arr)) # the 'type' function tells that it is a numpy array"
   ]
  },
  {
   "cell_type": "markdown",
   "metadata": {
    "id": "GOV8VzuZpQ-C"
   },
   "source": [
    "## Bracket Indexing and Selection\r\n",
    "The simplest way to pick one or some elements of an array looks very similar to python lists:"
   ]
  },
  {
   "cell_type": "code",
   "execution_count": 13,
   "metadata": {
    "colab": {
     "base_uri": "https://localhost:8080/"
    },
    "id": "xh29vwY_pHOW",
    "outputId": "75596bbd-fe0a-4349-de45-0d483481884e"
   },
   "outputs": [
    {
     "name": "stdout",
     "output_type": "stream",
     "text": [
      "8\n",
      "[1 2 3 4]\n"
     ]
    }
   ],
   "source": [
    "arr = np.arange(0,11)\r\n",
    "\r\n",
    "#Get a value at an index\r\n",
    "print(arr[8])\r\n",
    "\r\n",
    "#Get values in a range\r\n",
    "print(arr[1:5])"
   ]
  },
  {
   "cell_type": "markdown",
   "metadata": {
    "id": "yvnAwfrYrEB-"
   },
   "source": [
    "## Broadcasting\r\n",
    "\r\n",
    "Numpy arrays differ from a normal Python list because of their ability to broadcast:"
   ]
  },
  {
   "cell_type": "code",
   "execution_count": 14,
   "metadata": {
    "colab": {
     "base_uri": "https://localhost:8080/"
    },
    "id": "lScqHOazrDiq",
    "outputId": "b72fc8b6-6f54-4071-f1b4-56de560f4e79"
   },
   "outputs": [
    {
     "data": {
      "text/plain": [
       "array([100, 100, 100, 100, 100,   5,   6,   7,   8,   9,  10])"
      ]
     },
     "execution_count": 14,
     "metadata": {
      "tags": []
     },
     "output_type": "execute_result"
    }
   ],
   "source": [
    "#Setting a value with index range (Broadcasting)\r\n",
    "arr[0:5]=100\r\n",
    "arr"
   ]
  },
  {
   "cell_type": "markdown",
   "metadata": {
    "id": "86hGoBuisXnm"
   },
   "source": [
    "## Selection\r\n",
    "\r\n",
    "Let's briefly go over how to use brackets for selection based off of comparison operators."
   ]
  },
  {
   "cell_type": "code",
   "execution_count": 15,
   "metadata": {
    "colab": {
     "base_uri": "https://localhost:8080/"
    },
    "id": "2RweH8eosSFJ",
    "outputId": "99f534a3-628f-4f47-c850-69d50c481d16"
   },
   "outputs": [
    {
     "data": {
      "text/plain": [
       "array([ 0,  1,  2,  3,  4,  5,  6,  7,  8,  9, 10])"
      ]
     },
     "execution_count": 15,
     "metadata": {
      "tags": []
     },
     "output_type": "execute_result"
    }
   ],
   "source": [
    "arr = np.arange(0,11)\r\n",
    "arr"
   ]
  },
  {
   "cell_type": "code",
   "execution_count": 16,
   "metadata": {
    "colab": {
     "base_uri": "https://localhost:8080/"
    },
    "id": "hlKxfeMyslFD",
    "outputId": "f23d2d94-ed77-412d-e23b-087fd810d6d1"
   },
   "outputs": [
    {
     "data": {
      "text/plain": [
       "array([False, False, False, False, False,  True,  True,  True,  True,\n",
       "        True,  True])"
      ]
     },
     "execution_count": 16,
     "metadata": {
      "tags": []
     },
     "output_type": "execute_result"
    }
   ],
   "source": [
    "arr>4"
   ]
  },
  {
   "cell_type": "code",
   "execution_count": 17,
   "metadata": {
    "colab": {
     "base_uri": "https://localhost:8080/"
    },
    "id": "nUr-5clAse23",
    "outputId": "a66f9d2a-29f9-4a9b-e8d0-793e72147c90"
   },
   "outputs": [
    {
     "data": {
      "text/plain": [
       "array([ 3,  4,  5,  6,  7,  8,  9, 10])"
      ]
     },
     "execution_count": 17,
     "metadata": {
      "tags": []
     },
     "output_type": "execute_result"
    }
   ],
   "source": [
    "x = 2\r\n",
    "arr[arr>x]"
   ]
  },
  {
   "cell_type": "markdown",
   "metadata": {
    "id": "2Uvv_Z99syyd"
   },
   "source": [
    "## NumPy Operations"
   ]
  },
  {
   "cell_type": "code",
   "execution_count": 18,
   "metadata": {
    "colab": {
     "base_uri": "https://localhost:8080/"
    },
    "id": "AUO0DX-5siCw",
    "outputId": "62862237-6e2d-4d13-99da-c2519ef344b2"
   },
   "outputs": [
    {
     "data": {
      "text/plain": [
       "array([ 0,  2,  4,  6,  8, 10, 12, 14, 16, 18, 20])"
      ]
     },
     "execution_count": 18,
     "metadata": {
      "tags": []
     },
     "output_type": "execute_result"
    }
   ],
   "source": [
    "arr + arr"
   ]
  },
  {
   "cell_type": "code",
   "execution_count": 19,
   "metadata": {
    "colab": {
     "base_uri": "https://localhost:8080/"
    },
    "id": "kww-ea2ls8go",
    "outputId": "a8206eae-632c-4522-bac3-a2dc189f17bb"
   },
   "outputs": [
    {
     "data": {
      "text/plain": [
       "array([  0,   1,   4,   9,  16,  25,  36,  49,  64,  81, 100])"
      ]
     },
     "execution_count": 19,
     "metadata": {
      "tags": []
     },
     "output_type": "execute_result"
    }
   ],
   "source": [
    "arr * arr"
   ]
  },
  {
   "cell_type": "code",
   "execution_count": 20,
   "metadata": {
    "colab": {
     "base_uri": "https://localhost:8080/"
    },
    "id": "WqGxJrr1s-DM",
    "outputId": "4d2c3047-7b4e-46f5-d34c-a45223160f61"
   },
   "outputs": [
    {
     "name": "stderr",
     "output_type": "stream",
     "text": [
      "/usr/local/lib/python3.6/dist-packages/ipykernel_launcher.py:3: RuntimeWarning: invalid value encountered in true_divide\n",
      "  This is separate from the ipykernel package so we can avoid doing imports until\n"
     ]
    },
    {
     "data": {
      "text/plain": [
       "array([nan,  1.,  1.,  1.,  1.,  1.,  1.,  1.,  1.,  1.,  1.])"
      ]
     },
     "execution_count": 20,
     "metadata": {
      "tags": []
     },
     "output_type": "execute_result"
    }
   ],
   "source": [
    "# Warning on division by zero, but not an error!\r\n",
    "# Just replaced with nan\r\n",
    "arr/arr"
   ]
  },
  {
   "cell_type": "markdown",
   "metadata": {
    "id": "dVYaUzpDsRI3"
   },
   "source": [
    "NaN, standing for not a number, is a numeric data type used to represent any value that is undefined or unpresentable.\r\n",
    "\r\n",
    "There is another data type, known as None, which is used to define a null value. It is not the same as an empty string, False, or a zero.\r\n",
    "\r\n",
    "Assigning a value of None to a variable is one way to reset it to its original, empty state."
   ]
  },
  {
   "cell_type": "code",
   "execution_count": 21,
   "metadata": {
    "colab": {
     "base_uri": "https://localhost:8080/"
    },
    "id": "dfviM12PtDl6",
    "outputId": "22786ea9-460f-481d-d332-010bfd21adef"
   },
   "outputs": [
    {
     "name": "stdout",
     "output_type": "stream",
     "text": [
      "<class 'NoneType'>\n",
      "False\n"
     ]
    }
   ],
   "source": [
    "num=None\r\n",
    "print(type(num))\r\n",
    "print(num is np.nan)"
   ]
  },
  {
   "cell_type": "code",
   "execution_count": 34,
   "metadata": {
    "colab": {
     "base_uri": "https://localhost:8080/"
    },
    "id": "hm_AwtfOcC-f",
    "outputId": "683c2555-af52-4fc6-d37d-2ea9adcdb382"
   },
   "outputs": [
    {
     "name": "stdout",
     "output_type": "stream",
     "text": [
      "<class 'float'> <class 'float'>\n"
     ]
    }
   ],
   "source": [
    "# NaN can be initialised in two ways\r\n",
    "n1=np.nan\r\n",
    "n2=float('nan')\r\n",
    "print(type(n1), type(n2))"
   ]
  },
  {
   "cell_type": "code",
   "execution_count": 35,
   "metadata": {
    "colab": {
     "base_uri": "https://localhost:8080/"
    },
    "id": "ztv4NEKAc10E",
    "outputId": "136d4b73-716d-468c-af0f-213661fff37d"
   },
   "outputs": [
    {
     "name": "stdout",
     "output_type": "stream",
     "text": [
      "False\n"
     ]
    }
   ],
   "source": [
    "# here is something to think about\r\n",
    "print(n1==n1)"
   ]
  },
  {
   "cell_type": "code",
   "execution_count": null,
   "metadata": {
    "id": "oZvN0VjUdcmK"
   },
   "outputs": [],
   "source": [
    "# nan is NOT equal to nan\r\n",
    "# Ponder upon this result and try to figure out why n1 is not equal to itself."
   ]
  },
  {
   "cell_type": "code",
   "execution_count": 23,
   "metadata": {
    "colab": {
     "base_uri": "https://localhost:8080/"
    },
    "id": "sPJzkTy6tAIZ",
    "outputId": "9894741d-6d7f-41c7-df3b-653c37bf4a0a"
   },
   "outputs": [
    {
     "name": "stderr",
     "output_type": "stream",
     "text": [
      "/usr/local/lib/python3.6/dist-packages/ipykernel_launcher.py:3: RuntimeWarning: divide by zero encountered in true_divide\n",
      "  This is separate from the ipykernel package so we can avoid doing imports until\n"
     ]
    },
    {
     "data": {
      "text/plain": [
       "array([       inf, 1.        , 0.5       , 0.33333333, 0.25      ,\n",
       "       0.2       , 0.16666667, 0.14285714, 0.125     , 0.11111111,\n",
       "       0.1       ])"
      ]
     },
     "execution_count": 23,
     "metadata": {
      "tags": []
     },
     "output_type": "execute_result"
    }
   ],
   "source": [
    "# 1/0 also gives a warning\r\n",
    "# gets replaced with inf\r\n",
    "1/arr"
   ]
  },
  {
   "cell_type": "code",
   "execution_count": 24,
   "metadata": {
    "colab": {
     "base_uri": "https://localhost:8080/"
    },
    "id": "Yx6EWsuStGMu",
    "outputId": "981b8faa-5b4e-4541-ac99-aca83afe1e46"
   },
   "outputs": [
    {
     "data": {
      "text/plain": [
       "array([0.        , 1.        , 1.41421356, 1.73205081, 2.        ,\n",
       "       2.23606798, 2.44948974, 2.64575131, 2.82842712, 3.        ,\n",
       "       3.16227766])"
      ]
     },
     "execution_count": 24,
     "metadata": {
      "tags": []
     },
     "output_type": "execute_result"
    }
   ],
   "source": [
    "#Taking Square Roots\r\n",
    "np.sqrt(arr)"
   ]
  },
  {
   "cell_type": "code",
   "execution_count": 25,
   "metadata": {
    "colab": {
     "base_uri": "https://localhost:8080/"
    },
    "id": "vXUrCuxYtJZs",
    "outputId": "37ccecf0-1771-478e-eb89-5b0cdd64f981"
   },
   "outputs": [
    {
     "data": {
      "text/plain": [
       "array([1.00000000e+00, 2.71828183e+00, 7.38905610e+00, 2.00855369e+01,\n",
       "       5.45981500e+01, 1.48413159e+02, 4.03428793e+02, 1.09663316e+03,\n",
       "       2.98095799e+03, 8.10308393e+03, 2.20264658e+04])"
      ]
     },
     "execution_count": 25,
     "metadata": {
      "tags": []
     },
     "output_type": "execute_result"
    }
   ],
   "source": [
    "#Calcualting exponential (e^)\r\n",
    "np.exp(arr)"
   ]
  },
  {
   "cell_type": "code",
   "execution_count": 26,
   "metadata": {
    "colab": {
     "base_uri": "https://localhost:8080/"
    },
    "id": "K96jGdKetLVK",
    "outputId": "27b4bfdc-09d0-4c8a-f8fa-b8415e9f3b85"
   },
   "outputs": [
    {
     "data": {
      "text/plain": [
       "array([ 0.        ,  0.84147098,  0.90929743,  0.14112001, -0.7568025 ,\n",
       "       -0.95892427, -0.2794155 ,  0.6569866 ,  0.98935825,  0.41211849,\n",
       "       -0.54402111])"
      ]
     },
     "execution_count": 26,
     "metadata": {
      "tags": []
     },
     "output_type": "execute_result"
    }
   ],
   "source": [
    "#Calculating sine\r\n",
    "np.sin(arr)"
   ]
  },
  {
   "cell_type": "code",
   "execution_count": 27,
   "metadata": {
    "colab": {
     "base_uri": "https://localhost:8080/"
    },
    "id": "XfA1GaPmtOL6",
    "outputId": "b9444cfd-9e55-4f24-dd27-e190a48dd904"
   },
   "outputs": [
    {
     "name": "stderr",
     "output_type": "stream",
     "text": [
      "/usr/local/lib/python3.6/dist-packages/ipykernel_launcher.py:2: RuntimeWarning: divide by zero encountered in log\n",
      "  \n"
     ]
    },
    {
     "data": {
      "text/plain": [
       "array([      -inf, 0.        , 0.69314718, 1.09861229, 1.38629436,\n",
       "       1.60943791, 1.79175947, 1.94591015, 2.07944154, 2.19722458,\n",
       "       2.30258509])"
      ]
     },
     "execution_count": 27,
     "metadata": {
      "tags": []
     },
     "output_type": "execute_result"
    }
   ],
   "source": [
    "#Calculating logs\r\n",
    "np.log(arr)"
   ]
  }
 ],
 "metadata": {
  "colab": {
   "collapsed_sections": [],
   "name": "NumPy Basics.ipynb",
   "provenance": [],
   "toc_visible": true
  },
  "kernelspec": {
   "display_name": "Python 3",
   "language": "python",
   "name": "python3"
  },
  "language_info": {
   "name": ""
  }
 },
 "nbformat": 4,
 "nbformat_minor": 4
}
