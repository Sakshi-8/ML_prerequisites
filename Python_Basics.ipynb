{
  "nbformat": 4,
  "nbformat_minor": 0,
  "metadata": {
    "colab": {
      "name": "Python Basics backup.ipynb",
      "provenance": [],
      "collapsed_sections": [],
      "toc_visible": true
    },
    "kernelspec": {
      "name": "python3",
      "display_name": "Python 3"
    }
  },
  "cells": [
    {
      "cell_type": "markdown",
      "metadata": {
        "id": "7NDvp4A4GW3c"
      },
      "source": [
        "#IEEE DTU\n",
        "##TechWeek'21\n",
        "###Machine Learning"
      ]
    },
    {
      "cell_type": "markdown",
      "metadata": {
        "id": "-tHjV0w6d6aS"
      },
      "source": [
        "# Python Basics"
      ]
    },
    {
      "cell_type": "markdown",
      "metadata": {
        "id": "98jCCZ76Hth5"
      },
      "source": [
        "Visit [python.org](https://www.python.org) for more details about the programming language."
      ]
    },
    {
      "cell_type": "markdown",
      "metadata": {
        "id": "WDFgrYtDkwX0"
      },
      "source": [
        "## Data Types"
      ]
    },
    {
      "cell_type": "markdown",
      "metadata": {
        "id": "WK6AwJ_gw1Xd"
      },
      "source": [
        "###Numbers\r\n",
        "* Int - integers\r\n",
        "* Float - floating point numbers/decimals"
      ]
    },
    {
      "cell_type": "code",
      "metadata": {
        "id": "Ws-NB0lOczW3",
        "colab": {
          "base_uri": "https://localhost:8080/"
        },
        "outputId": "9a6dd5e7-e47d-4f0c-ed8c-6659ba6578e6"
      },
      "source": [
        "print(type(25))\r\n",
        "print(type(25.56))\r\n",
        "\r\n",
        "print(int(45.95))\r\n",
        "print(float('45.789'))"
      ],
      "execution_count": null,
      "outputs": [
        {
          "output_type": "stream",
          "text": [
            "<class 'int'>\n",
            "<class 'float'>\n",
            "45\n",
            "45.789\n"
          ],
          "name": "stdout"
        }
      ]
    },
    {
      "cell_type": "markdown",
      "metadata": {
        "id": "c3p_Lfl5xX7_"
      },
      "source": [
        "###Strings\r\n",
        "\r\n",
        "* Any element can be accessed by indexing.\r\n",
        "* Reverse indexing can also be utilized.\r\n",
        "* Strings can be sliced in any way.\r\n",
        "* Strings can also be multiplied by a constant.\r\n",
        "* Strings can be concatenated.\r\n"
      ]
    },
    {
      "cell_type": "code",
      "metadata": {
        "colab": {
          "base_uri": "https://localhost:8080/"
        },
        "id": "AAPW2ol5xTgj",
        "outputId": "1c7c36b2-102c-4e4c-8090-ba17427fee95"
      },
      "source": [
        "name='My name is Jon Snow. I know nothing.'\r\n",
        "\r\n",
        "#indexing\r\n",
        "print(name[6])\r\n",
        "\r\n",
        "#reverse indexing\r\n",
        "print(name[-3])\r\n",
        "\r\n",
        "#slicing\r\n",
        "print(name[11:20:2])\r\n",
        "\r\n",
        "#multiplication by constant\r\n",
        "print(name*3)\r\n",
        "\r\n",
        "#concatenation\r\n",
        "hello='Hello everyone. '\r\n",
        "print(hello+name)"
      ],
      "execution_count": null,
      "outputs": [
        {
          "output_type": "stream",
          "text": [
            "e\n",
            "n\n",
            "JnSo.\n",
            "My name is Jon Snow. I know nothing.My name is Jon Snow. I know nothing.My name is Jon Snow. I know nothing.\n",
            "Hello everyone. My name is Jon Snow. I know nothing.\n"
          ],
          "name": "stdout"
        }
      ]
    },
    {
      "cell_type": "markdown",
      "metadata": {
        "id": "8iV7nIAb0Ego"
      },
      "source": [
        "###Lists\r\n",
        "* Can store any data type.\r\n",
        "* Like strings, allow indexing, reverse indexing, slicing, concatenation, and multiplication."
      ]
    },
    {
      "cell_type": "code",
      "metadata": {
        "colab": {
          "base_uri": "https://localhost:8080/"
        },
        "id": "4TDUVuei4oJ9",
        "outputId": "7ef0a691-4abd-4808-a350-a4dcad840a2d"
      },
      "source": [
        "mylist=[24.5, 'Alaska', [4, 5, 'no']]\r\n",
        "\r\n",
        "#indexing\r\n",
        "print(mylist[1])\r\n",
        "\r\n",
        "#reverse indexing\r\n",
        "print(mylist[-1][2])\r\n",
        "\r\n",
        "#concatenation\r\n",
        "print(mylist+[45,'abcd'])\r\n",
        "\r\n",
        "#multiplication by constant\r\n",
        "print(mylist*2)"
      ],
      "execution_count": null,
      "outputs": [
        {
          "output_type": "stream",
          "text": [
            "Alaska\n",
            "no\n",
            "[24.5, 'Alaska', [4, 5, 'no'], 45, 'abcd']\n",
            "[24.5, 'Alaska', [4, 5, 'no'], 24.5, 'Alaska', [4, 5, 'no']]\n"
          ],
          "name": "stdout"
        }
      ]
    },
    {
      "cell_type": "markdown",
      "metadata": {
        "id": "U8GngEm95e-p"
      },
      "source": [
        "###Dicionaries\r\n",
        "* Elements are key-value pairs\r\n",
        "* Unordered\r\n",
        "* Can hold any data type"
      ]
    },
    {
      "cell_type": "code",
      "metadata": {
        "colab": {
          "base_uri": "https://localhost:8080/"
        },
        "id": "JXkyEWY8_cql",
        "outputId": "e66b489d-2a1d-49d9-b0ca-f734e2f39c53"
      },
      "source": [
        "mydict={'k1':123, 'k2':[0, 1, 2], 'k3':{'inside k':100}}\r\n",
        "print(mydict['k3']['inside k'])\r\n",
        "print(mydict.keys())\r\n",
        "print(mydict.values())\r\n",
        "print(mydict.items())"
      ],
      "execution_count": null,
      "outputs": [
        {
          "output_type": "stream",
          "text": [
            "100\n",
            "dict_keys(['k1', 'k2', 'k3'])\n",
            "dict_values([123, [0, 1, 2], {'inside k': 100}])\n",
            "dict_items([('k1', 123), ('k2', [0, 1, 2]), ('k3', {'inside k': 100})])\n"
          ],
          "name": "stdout"
        }
      ]
    },
    {
      "cell_type": "markdown",
      "metadata": {
        "id": "yIT9MsHmAXUM"
      },
      "source": [
        "###Tuples\r\n",
        "* Are immutable\r\n",
        "* Allow slicing and indexing"
      ]
    },
    {
      "cell_type": "code",
      "metadata": {
        "colab": {
          "base_uri": "https://localhost:8080/"
        },
        "id": "XfVKK8uxArEp",
        "outputId": "60e5b756-4592-4d38-ccf9-76d81d82d78b"
      },
      "source": [
        "tup=(123, 'abc', ([1, 2, 3], 'def'), 789)\r\n",
        "print(tup[-2][1])\r\n",
        "print(tup[1:])"
      ],
      "execution_count": null,
      "outputs": [
        {
          "output_type": "stream",
          "text": [
            "def\n",
            "('abc', ([1, 2, 3], 'def'), 789)\n"
          ],
          "name": "stdout"
        }
      ]
    },
    {
      "cell_type": "markdown",
      "metadata": {
        "id": "9ZlWBtzSBIgA"
      },
      "source": [
        "###Sets\r\n",
        "The major difference between sets and lists is that sets contain unique elements."
      ]
    },
    {
      "cell_type": "code",
      "metadata": {
        "colab": {
          "base_uri": "https://localhost:8080/"
        },
        "id": "D9_-hxaXBU3_",
        "outputId": "5576dd5e-10e9-4b39-b44b-263efadc4e74"
      },
      "source": [
        "myset=set([1, 2, 3, 1, 'abc'])\r\n",
        "myset"
      ],
      "execution_count": null,
      "outputs": [
        {
          "output_type": "execute_result",
          "data": {
            "text/plain": [
              "{1, 2, 3, 'abc'}"
            ]
          },
          "metadata": {
            "tags": []
          },
          "execution_count": 6
        }
      ]
    },
    {
      "cell_type": "markdown",
      "metadata": {
        "id": "gPnukp1qCglI"
      },
      "source": [
        "##Boolean logic"
      ]
    },
    {
      "cell_type": "markdown",
      "metadata": {
        "id": "Dh9tLHFaEu7W"
      },
      "source": [
        "###Concepts\r\n",
        "\r\n",
        "1. Boolean Expression\r\n",
        "  - True/False\r\n",
        "2. Logical Operators\r\n",
        "  - and\r\n",
        "  - or\r\n",
        "  - not\r\n",
        "3. Comparison Operators\r\n",
        "  - equal ==\r\n",
        "  - not equal !=\r\n",
        "  - less than (or equal to) < and <=\r\n",
        "  - greater than (or equal to) > and >=\r\n",
        "4. 'in' Operator\r\n",
        "  - used to check whether an element belongs to a list, string, dictionary or any other object.\r\n",
        "\r\n",
        "---\r\n",
        "\r\n"
      ]
    },
    {
      "cell_type": "markdown",
      "metadata": {
        "id": "c2Qh3WY8C7w8"
      },
      "source": [
        "Are the following problems True or False?"
      ]
    },
    {
      "cell_type": "code",
      "metadata": {
        "id": "mXZu74YbC14R",
        "colab": {
          "base_uri": "https://localhost:8080/"
        },
        "outputId": "1fa7ae9b-b69e-4bd0-830b-a4cc98882a9a"
      },
      "source": [
        "A = True\r\n",
        "B = False\r\n",
        "C = False\r\n",
        "\r\n",
        "print(A or B)\r\n",
        "print(A and C)\r\n",
        "print((not B and not C) or (A and B))\r\n",
        "\r\n",
        "print(23 in range(20))\r\n",
        "print(10 not in range(10))\r\n",
        "print('ab' in 'gabkl')"
      ],
      "execution_count": null,
      "outputs": [
        {
          "output_type": "stream",
          "text": [
            "True\n",
            "False\n",
            "True\n",
            "False\n",
            "True\n",
            "True\n"
          ],
          "name": "stdout"
        }
      ]
    },
    {
      "cell_type": "markdown",
      "metadata": {
        "id": "rvFIv6hpDSPG"
      },
      "source": [
        "\r\n",
        "What is the following code output?"
      ]
    },
    {
      "cell_type": "code",
      "metadata": {
        "id": "s_KI-ZThDVng",
        "colab": {
          "base_uri": "https://localhost:8080/"
        },
        "outputId": "3e5c42e2-57a0-4e30-d642-cf234a373e81"
      },
      "source": [
        "pickles = 7\r\n",
        "oranges = 15\r\n",
        "strawberries = 2\r\n",
        "\r\n",
        "print(pickles > oranges)\r\n",
        "print((pickles * strawberries) > oranges)\r\n",
        "print(oranges != strawberries)"
      ],
      "execution_count": null,
      "outputs": [
        {
          "output_type": "stream",
          "text": [
            "False\n",
            "False\n",
            "True\n"
          ],
          "name": "stdout"
        }
      ]
    },
    {
      "cell_type": "markdown",
      "metadata": {
        "id": "CKADEdwkE4qI"
      },
      "source": [
        "##Conditionals"
      ]
    },
    {
      "cell_type": "code",
      "metadata": {
        "colab": {
          "base_uri": "https://localhost:8080/"
        },
        "id": "CKTCGZRCFBYm",
        "outputId": "88db2908-f3ad-4f4c-94e6-8065687cb955"
      },
      "source": [
        "age=18\r\n",
        "\r\n",
        "if age<18:\r\n",
        "  print(\"You're a kid.\")\r\n",
        "elif age>60:\r\n",
        "  print(\"You're a senior citizen\")\r\n",
        "else:\r\n",
        "  print(\"You're an adult\")"
      ],
      "execution_count": null,
      "outputs": [
        {
          "output_type": "stream",
          "text": [
            "You're an adult\n"
          ],
          "name": "stdout"
        }
      ]
    },
    {
      "cell_type": "markdown",
      "metadata": {
        "id": "chDKv8rzFf8A"
      },
      "source": [
        "##Loops"
      ]
    },
    {
      "cell_type": "markdown",
      "metadata": {
        "id": "BIv4VEPhFkHc"
      },
      "source": [
        "###For loop"
      ]
    },
    {
      "cell_type": "code",
      "metadata": {
        "colab": {
          "base_uri": "https://localhost:8080/"
        },
        "id": "jRHURDkPFitd",
        "outputId": "275ed534-2382-4694-e383-b7d22a4a705a"
      },
      "source": [
        "mylist=list(range(10))\r\n",
        "print(mylist)\r\n",
        "\r\n",
        "for item in mylist:\r\n",
        "  print(item**2)"
      ],
      "execution_count": null,
      "outputs": [
        {
          "output_type": "stream",
          "text": [
            "[0, 1, 2, 3, 4, 5, 6, 7, 8, 9]\n",
            "0\n",
            "1\n",
            "4\n",
            "9\n",
            "16\n",
            "25\n",
            "36\n",
            "49\n",
            "64\n",
            "81\n"
          ],
          "name": "stdout"
        }
      ]
    },
    {
      "cell_type": "code",
      "metadata": {
        "colab": {
          "base_uri": "https://localhost:8080/"
        },
        "id": "UxiqQAYOAUts",
        "outputId": "44fa6b9b-f7e1-4c0d-ddfd-077962e43953"
      },
      "source": [
        "# using nested for loop to print a pattern\r\n",
        "for i in range(1,6):\r\n",
        "  print('*'*i)"
      ],
      "execution_count": 1,
      "outputs": [
        {
          "output_type": "stream",
          "text": [
            "*\n",
            "**\n",
            "***\n",
            "****\n",
            "*****\n"
          ],
          "name": "stdout"
        }
      ]
    },
    {
      "cell_type": "markdown",
      "metadata": {
        "id": "Bu5I6LfkGgL-"
      },
      "source": [
        "###While loop"
      ]
    },
    {
      "cell_type": "code",
      "metadata": {
        "colab": {
          "base_uri": "https://localhost:8080/"
        },
        "id": "mmH01PhYGkPo",
        "outputId": "88d24be8-60c3-4c12-fbcd-913208d06cca"
      },
      "source": [
        "# while loop to print the same pattern\r\n",
        "\r\n",
        "i=1\r\n",
        "while(i<6):\r\n",
        "  print('*'*i)\r\n",
        "  i+=1"
      ],
      "execution_count": 2,
      "outputs": [
        {
          "output_type": "stream",
          "text": [
            "*\n",
            "**\n",
            "***\n",
            "****\n",
            "*****\n"
          ],
          "name": "stdout"
        }
      ]
    },
    {
      "cell_type": "markdown",
      "metadata": {
        "id": "FSlXNqDfH7PF"
      },
      "source": [
        "##Functions"
      ]
    },
    {
      "cell_type": "code",
      "metadata": {
        "colab": {
          "base_uri": "https://localhost:8080/"
        },
        "id": "RS35IBnCButD",
        "outputId": "c8aff82a-c54a-4e07-a8f0-b7633f170b84"
      },
      "source": [
        "#function to calculate the sum of two numbers\r\n",
        "\r\n",
        "def sum(a, b):\r\n",
        "  return a+b\r\n",
        "\r\n",
        "a=int(input(\"Enter value of a: \"))\r\n",
        "b=int(input(\"Enter value of b: \"))\r\n",
        "print(\"Sum of the two numbers is\", sum(a, b))"
      ],
      "execution_count": null,
      "outputs": [
        {
          "output_type": "stream",
          "text": [
            "Enter value of a: 4\n",
            "Enter value of b: 10\n",
            "Sum of the two numbers is 14\n"
          ],
          "name": "stdout"
        }
      ]
    },
    {
      "cell_type": "code",
      "metadata": {
        "id": "NDLpUAwiIAg5"
      },
      "source": [
        "#function to calculate factorial of a number\r\n",
        "\r\n",
        "def factorial(n):\r\n",
        "  fact=1\r\n",
        "  if n==0:\r\n",
        "    return fact \r\n",
        "  for i in range(2,n+1):\r\n",
        "    fact*=i\r\n",
        "  return fact\r\n",
        "\r\n",
        "n=int(input(\"Enter a number: \"))\r\n",
        "print(\"The factorial of\", n, \"is\", factorial(n))"
      ],
      "execution_count": null,
      "outputs": []
    },
    {
      "cell_type": "code",
      "metadata": {
        "id": "jKCUfwSWbmkp"
      },
      "source": [
        "# function to calculate factorial using recursion\r\n",
        "\r\n",
        "def factorial_r(n):\r\n",
        "  if n==0:\r\n",
        "    return 1\r\n",
        "  return n*factorial_r(n-1)\r\n",
        "\r\n",
        "n=int(input(\"Enter a number: \"))\r\n",
        "print(\"The factorial of\", n, \"is\", factorial_r(n))"
      ],
      "execution_count": null,
      "outputs": []
    },
    {
      "cell_type": "markdown",
      "metadata": {
        "id": "T2GoMvwQAt3F"
      },
      "source": [
        "###Homework Assignment\r\n",
        "Create a function to find out whether a given year is a leap year or not."
      ]
    },
    {
      "cell_type": "code",
      "metadata": {
        "id": "xUeHCjcbVk_o"
      },
      "source": [
        "#write your code here\r\n",
        "\r\n",
        "def leap_year(year):\r\n",
        "  "
      ],
      "execution_count": null,
      "outputs": []
    }
  ]
}